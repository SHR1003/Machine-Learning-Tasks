{
 "cells": [
  {
   "cell_type": "code",
   "execution_count": 1,
   "id": "23c174fe",
   "metadata": {},
   "outputs": [],
   "source": [
    "import pandas as pd\n",
    "import matplotlib.pyplot as plt\n",
    "import seaborn as sns\n",
    "\n",
    "%matplotlib inline"
   ]
  },
  {
   "cell_type": "code",
   "execution_count": 2,
   "id": "b85b91fb",
   "metadata": {},
   "outputs": [],
   "source": [
    "train=pd.read_csv(r\"C:\\Users\\Tiger\\Downloads\\archive (6)\\fraudTrain.csv\")\n",
    "test=pd.read_csv(r\"C:\\Users\\Tiger\\Downloads\\archive (6)\\fraudTest.csv\")"
   ]
  },
  {
   "cell_type": "code",
   "execution_count": 4,
   "id": "c09dc786",
   "metadata": {},
   "outputs": [
    {
     "data": {
      "text/plain": [
       "Index(['Unnamed: 0', 'trans_date_trans_time', 'cc_num', 'merchant', 'category',\n",
       "       'amt', 'first', 'last', 'gender', 'street', 'city', 'state', 'zip',\n",
       "       'lat', 'long', 'city_pop', 'job', 'dob', 'trans_num', 'unix_time',\n",
       "       'merch_lat', 'merch_long', 'is_fraud'],\n",
       "      dtype='object')"
      ]
     },
     "execution_count": 4,
     "metadata": {},
     "output_type": "execute_result"
    }
   ],
   "source": [
    "df=pd.concat([train, test])\n",
    "df.columns"
   ]
  },
  {
   "cell_type": "code",
   "execution_count": 5,
   "id": "c32c45ed",
   "metadata": {},
   "outputs": [
    {
     "data": {
      "text/html": [
       "<div>\n",
       "<style scoped>\n",
       "    .dataframe tbody tr th:only-of-type {\n",
       "        vertical-align: middle;\n",
       "    }\n",
       "\n",
       "    .dataframe tbody tr th {\n",
       "        vertical-align: top;\n",
       "    }\n",
       "\n",
       "    .dataframe thead tr th {\n",
       "        text-align: left;\n",
       "    }\n",
       "\n",
       "    .dataframe thead tr:last-of-type th {\n",
       "        text-align: right;\n",
       "    }\n",
       "</style>\n",
       "<table border=\"1\" class=\"dataframe\">\n",
       "  <thead>\n",
       "    <tr>\n",
       "      <th></th>\n",
       "      <th colspan=\"8\" halign=\"left\">Unnamed: 0</th>\n",
       "      <th colspan=\"2\" halign=\"left\">cc_num</th>\n",
       "      <th>...</th>\n",
       "      <th colspan=\"2\" halign=\"left\">merch_lat</th>\n",
       "      <th colspan=\"8\" halign=\"left\">merch_long</th>\n",
       "    </tr>\n",
       "    <tr>\n",
       "      <th></th>\n",
       "      <th>count</th>\n",
       "      <th>mean</th>\n",
       "      <th>std</th>\n",
       "      <th>min</th>\n",
       "      <th>25%</th>\n",
       "      <th>50%</th>\n",
       "      <th>75%</th>\n",
       "      <th>max</th>\n",
       "      <th>count</th>\n",
       "      <th>mean</th>\n",
       "      <th>...</th>\n",
       "      <th>75%</th>\n",
       "      <th>max</th>\n",
       "      <th>count</th>\n",
       "      <th>mean</th>\n",
       "      <th>std</th>\n",
       "      <th>min</th>\n",
       "      <th>25%</th>\n",
       "      <th>50%</th>\n",
       "      <th>75%</th>\n",
       "      <th>max</th>\n",
       "    </tr>\n",
       "    <tr>\n",
       "      <th>is_fraud</th>\n",
       "      <th></th>\n",
       "      <th></th>\n",
       "      <th></th>\n",
       "      <th></th>\n",
       "      <th></th>\n",
       "      <th></th>\n",
       "      <th></th>\n",
       "      <th></th>\n",
       "      <th></th>\n",
       "      <th></th>\n",
       "      <th></th>\n",
       "      <th></th>\n",
       "      <th></th>\n",
       "      <th></th>\n",
       "      <th></th>\n",
       "      <th></th>\n",
       "      <th></th>\n",
       "      <th></th>\n",
       "      <th></th>\n",
       "      <th></th>\n",
       "      <th></th>\n",
       "    </tr>\n",
       "  </thead>\n",
       "  <tbody>\n",
       "    <tr>\n",
       "      <th>0</th>\n",
       "      <td>1842743.0</td>\n",
       "      <td>537179.530738</td>\n",
       "      <td>366769.035099</td>\n",
       "      <td>0.0</td>\n",
       "      <td>231756.5</td>\n",
       "      <td>463137.0</td>\n",
       "      <td>833291.5</td>\n",
       "      <td>1296674.0</td>\n",
       "      <td>1842743.0</td>\n",
       "      <td>4.174926e+17</td>\n",
       "      <td>...</td>\n",
       "      <td>41.955883</td>\n",
       "      <td>66.682905</td>\n",
       "      <td>1842743.0</td>\n",
       "      <td>-90.228935</td>\n",
       "      <td>13.756973</td>\n",
       "      <td>-166.671575</td>\n",
       "      <td>-96.900634</td>\n",
       "      <td>-87.441945</td>\n",
       "      <td>-80.246961</td>\n",
       "      <td>-66.950902</td>\n",
       "    </tr>\n",
       "    <tr>\n",
       "      <th>1</th>\n",
       "      <td>9651.0</td>\n",
       "      <td>539849.247228</td>\n",
       "      <td>393083.353516</td>\n",
       "      <td>1685.0</td>\n",
       "      <td>189656.5</td>\n",
       "      <td>453937.0</td>\n",
       "      <td>900544.5</td>\n",
       "      <td>1295733.0</td>\n",
       "      <td>9651.0</td>\n",
       "      <td>3.970393e+17</td>\n",
       "      <td>...</td>\n",
       "      <td>42.043486</td>\n",
       "      <td>67.510267</td>\n",
       "      <td>9651.0</td>\n",
       "      <td>-90.037919</td>\n",
       "      <td>14.268910</td>\n",
       "      <td>-166.550779</td>\n",
       "      <td>-96.678370</td>\n",
       "      <td>-87.167538</td>\n",
       "      <td>-79.907350</td>\n",
       "      <td>-66.960745</td>\n",
       "    </tr>\n",
       "  </tbody>\n",
       "</table>\n",
       "<p>2 rows × 80 columns</p>\n",
       "</div>"
      ],
      "text/plain": [
       "         Unnamed: 0                                                            \\\n",
       "              count           mean            std     min       25%       50%   \n",
       "is_fraud                                                                        \n",
       "0         1842743.0  537179.530738  366769.035099     0.0  231756.5  463137.0   \n",
       "1            9651.0  539849.247228  393083.353516  1685.0  189656.5  453937.0   \n",
       "\n",
       "                                  cc_num                ...  merch_lat  \\\n",
       "               75%        max      count          mean  ...        75%   \n",
       "is_fraud                                                ...              \n",
       "0         833291.5  1296674.0  1842743.0  4.174926e+17  ...  41.955883   \n",
       "1         900544.5  1295733.0     9651.0  3.970393e+17  ...  42.043486   \n",
       "\n",
       "                    merch_long                                               \\\n",
       "                max      count       mean        std         min        25%   \n",
       "is_fraud                                                                      \n",
       "0         66.682905  1842743.0 -90.228935  13.756973 -166.671575 -96.900634   \n",
       "1         67.510267     9651.0 -90.037919  14.268910 -166.550779 -96.678370   \n",
       "\n",
       "                                           \n",
       "                50%        75%        max  \n",
       "is_fraud                                   \n",
       "0        -87.441945 -80.246961 -66.950902  \n",
       "1        -87.167538 -79.907350 -66.960745  \n",
       "\n",
       "[2 rows x 80 columns]"
      ]
     },
     "execution_count": 5,
     "metadata": {},
     "output_type": "execute_result"
    }
   ],
   "source": [
    "df.groupby(by=\"is_fraud\").describe()"
   ]
  },
  {
   "cell_type": "code",
   "execution_count": 6,
   "id": "4f89488e",
   "metadata": {},
   "outputs": [
    {
     "data": {
      "text/plain": [
       "<AxesSubplot:xlabel='is_fraud', ylabel='count'>"
      ]
     },
     "execution_count": 6,
     "metadata": {},
     "output_type": "execute_result"
    },
    {
     "data": {
      "image/png": "[encoded data removed]",
      "text/plain": [
       "<Figure size 640x480 with 1 Axes>"
      ]
     },
     "metadata": {},
     "output_type": "display_data"
    }
   ],
   "source": [
    "sns.countplot(data=df,x=\"is_fraud\",hue=\"gender\")"
   ]
  },
  {
   "cell_type": "markdown",
   "id": "7926aff7",
   "metadata": {},
   "source": [
    "data is skewed "
   ]
  },
  {
   "cell_type": "code",
   "execution_count": 22,
   "id": "c20effe0",
   "metadata": {},
   "outputs": [
    {
     "name": "stdout",
     "output_type": "stream",
     "text": [
      "Collecting imblearn\n",
      "  Downloading imblearn-0.0-py2.py3-none-any.whl (1.9 kB)\n",
      "Collecting imbalanced-learn\n",
      "  Downloading imbalanced_learn-0.11.0-py3-none-any.whl (235 kB)\n",
      "     -------------------------------------- 235.6/235.6 kB 1.1 MB/s eta 0:00:00\n",
      "Requirement already satisfied: threadpoolctl>=2.0.0 in c:\\users\\tiger\\anaconda3\\lib\\site-packages (from imbalanced-learn->imblearn) (3.2.0)\n",
      "Requirement already satisfied: joblib>=1.1.1 in c:\\users\\tiger\\anaconda3\\lib\\site-packages (from imbalanced-learn->imblearn) (1.2.0)\n",
      "Requirement already satisfied: scipy>=1.5.0 in c:\\users\\tiger\\anaconda3\\lib\\site-packages (from imbalanced-learn->imblearn) (1.9.1)\n",
      "Requirement already satisfied: numpy>=1.17.3 in c:\\users\\tiger\\anaconda3\\lib\\site-packages (from imbalanced-learn->imblearn) (1.23.5)\n",
      "Requirement already satisfied: scikit-learn>=1.0.2 in c:\\users\\tiger\\anaconda3\\lib\\site-packages (from imbalanced-learn->imblearn) (1.3.0)\n",
      "Installing collected packages: imbalanced-learn, imblearn\n",
      "Successfully installed imbalanced-learn-0.11.0 imblearn-0.0\n",
      "Note: you may need to restart the kernel to use updated packages.\n"
     ]
    }
   ],
   "source": [
    "pip install imblearn"
   ]
  },
  {
   "cell_type": "code",
   "execution_count": 7,
   "id": "87d06d7f",
   "metadata": {},
   "outputs": [
    {
     "name": "stdout",
     "output_type": "stream",
     "text": [
      "original dataset shape: (1852394,) (1852394, 22)\n",
      "Resample dataset shape (19302,) (19302, 22)\n"
     ]
    }
   ],
   "source": [
    "from imblearn.under_sampling import RandomUnderSampler\n",
    "x=df.drop(\"is_fraud\",axis=1)\n",
    "y=df[\"is_fraud\"]\n",
    "rus = RandomUnderSampler(random_state=42, replacement=True)# fit predictor and target variable\n",
    "x_rus, y_rus = rus.fit_resample(x, y)\n",
    "\n",
    "print('original dataset shape:', y.shape,x.shape)\n",
    "print('Resample dataset shape', y_rus.shape,x_rus.shape)"
   ]
  },
  {
   "cell_type": "markdown",
   "id": "82a266dc",
   "metadata": {},
   "source": [
    "reshaped the data because it was imbalanced"
   ]
  },
  {
   "cell_type": "code",
   "execution_count": 8,
   "id": "2748c1a8",
   "metadata": {},
   "outputs": [],
   "source": [
    "df = pd.concat([x_rus, y_rus], axis=1)\n",
    "\n"
   ]
  },
  {
   "cell_type": "code",
   "execution_count": 9,
   "id": "d9864bdc",
   "metadata": {},
   "outputs": [
    {
     "data": {
      "text/plain": [
       "<AxesSubplot:xlabel='is_fraud', ylabel='count'>"
      ]
     },
     "execution_count": 9,
     "metadata": {},
     "output_type": "execute_result"
    },
    {
     "data": {
      "image/png": "[encoded data removed]",
      "text/plain": [
       "<Figure size 640x480 with 1 Axes>"
      ]
     },
     "metadata": {},
     "output_type": "display_data"
    }
   ],
   "source": [
    "sns.countplot(data=df,x=y_rus,hue=x_rus[\"gender\"])"
   ]
  },
  {
   "cell_type": "code",
   "execution_count": 10,
   "id": "9a679706",
   "metadata": {},
   "outputs": [
    {
     "data": {
      "text/plain": [
       "Unnamed: 0               0\n",
       "trans_date_trans_time    0\n",
       "cc_num                   0\n",
       "merchant                 0\n",
       "category                 0\n",
       "amt                      0\n",
       "first                    0\n",
       "last                     0\n",
       "gender                   0\n",
       "street                   0\n",
       "city                     0\n",
       "state                    0\n",
       "zip                      0\n",
       "lat                      0\n",
       "long                     0\n",
       "city_pop                 0\n",
       "job                      0\n",
       "dob                      0\n",
       "trans_num                0\n",
       "unix_time                0\n",
       "merch_lat                0\n",
       "merch_long               0\n",
       "is_fraud                 0\n",
       "dtype: int64"
      ]
     },
     "execution_count": 10,
     "metadata": {},
     "output_type": "execute_result"
    }
   ],
   "source": [
    "df.isna().sum()"
   ]
  },
  {
   "cell_type": "code",
   "execution_count": 11,
   "id": "9566b5eb",
   "metadata": {},
   "outputs": [],
   "source": [
    "from datetime import datetime\n",
    "df['dob'] = pd.to_datetime(df['dob'], format='%Y-%m-%d')\n",
    "\n",
    "# Calculate the current date\n",
    "current_date = datetime.now()\n",
    "\n",
    "# Calculate the age by subtracting the 'dob' from the current date\n",
    "df['age'] = (current_date - df['dob']).astype('<m8[Y]')"
   ]
  },
  {
   "cell_type": "markdown",
   "id": "3b564051",
   "metadata": {},
   "source": [
    "derived a feature - age from dob"
   ]
  },
  {
   "cell_type": "code",
   "execution_count": 12,
   "id": "ac8320be",
   "metadata": {
    "scrolled": false
   },
   "outputs": [
    {
     "data": {
      "text/html": [
       "<div>\n",
       "<style scoped>\n",
       "    .dataframe tbody tr th:only-of-type {\n",
       "        vertical-align: middle;\n",
       "    }\n",
       "\n",
       "    .dataframe tbody tr th {\n",
       "        vertical-align: top;\n",
       "    }\n",
       "\n",
       "    .dataframe thead th {\n",
       "        text-align: right;\n",
       "    }\n",
       "</style>\n",
       "<table border=\"1\" class=\"dataframe\">\n",
       "  <thead>\n",
       "    <tr style=\"text-align: right;\">\n",
       "      <th></th>\n",
       "      <th>Unnamed: 0</th>\n",
       "      <th>trans_date_trans_time</th>\n",
       "      <th>cc_num</th>\n",
       "      <th>merchant</th>\n",
       "      <th>category</th>\n",
       "      <th>amt</th>\n",
       "      <th>first</th>\n",
       "      <th>last</th>\n",
       "      <th>gender</th>\n",
       "      <th>street</th>\n",
       "      <th>...</th>\n",
       "      <th>long</th>\n",
       "      <th>city_pop</th>\n",
       "      <th>job</th>\n",
       "      <th>dob</th>\n",
       "      <th>trans_num</th>\n",
       "      <th>unix_time</th>\n",
       "      <th>merch_lat</th>\n",
       "      <th>merch_long</th>\n",
       "      <th>is_fraud</th>\n",
       "      <th>age</th>\n",
       "    </tr>\n",
       "  </thead>\n",
       "  <tbody>\n",
       "    <tr>\n",
       "      <th>123118</th>\n",
       "      <td>123118</td>\n",
       "      <td>2019-03-10 03:24:30</td>\n",
       "      <td>30011465039817</td>\n",
       "      <td>fraud_Huels-Nolan</td>\n",
       "      <td>gas_transport</td>\n",
       "      <td>67.66</td>\n",
       "      <td>Lisa</td>\n",
       "      <td>Garcia</td>\n",
       "      <td>F</td>\n",
       "      <td>213 Gill Expressway</td>\n",
       "      <td>...</td>\n",
       "      <td>-73.5873</td>\n",
       "      <td>4015</td>\n",
       "      <td>Human resources officer</td>\n",
       "      <td>1971-10-14</td>\n",
       "      <td>6744f95a0c456529c4a35cb30a5cb396</td>\n",
       "      <td>1331349870</td>\n",
       "      <td>42.974691</td>\n",
       "      <td>-73.944930</td>\n",
       "      <td>0</td>\n",
       "      <td>52.0</td>\n",
       "    </tr>\n",
       "    <tr>\n",
       "      <th>675160</th>\n",
       "      <td>675160</td>\n",
       "      <td>2019-10-14 15:40:47</td>\n",
       "      <td>2288813824604479</td>\n",
       "      <td>fraud_Yost-Rogahn</td>\n",
       "      <td>personal_care</td>\n",
       "      <td>47.79</td>\n",
       "      <td>Barbara</td>\n",
       "      <td>Norman</td>\n",
       "      <td>F</td>\n",
       "      <td>6278 Stephanie Unions</td>\n",
       "      <td>...</td>\n",
       "      <td>-73.9383</td>\n",
       "      <td>1577385</td>\n",
       "      <td>Herbalist</td>\n",
       "      <td>1981-08-29</td>\n",
       "      <td>7c53e2c5bb6aa689753574d9f8ae623f</td>\n",
       "      <td>1350229247</td>\n",
       "      <td>41.046486</td>\n",
       "      <td>-74.132901</td>\n",
       "      <td>0</td>\n",
       "      <td>42.0</td>\n",
       "    </tr>\n",
       "    <tr>\n",
       "      <th>133167</th>\n",
       "      <td>133167</td>\n",
       "      <td>2019-03-14 15:21:51</td>\n",
       "      <td>2266735643685262</td>\n",
       "      <td>fraud_Roob-Okuneva</td>\n",
       "      <td>health_fitness</td>\n",
       "      <td>24.17</td>\n",
       "      <td>Carlos</td>\n",
       "      <td>Chung</td>\n",
       "      <td>M</td>\n",
       "      <td>8957 Russell Key</td>\n",
       "      <td>...</td>\n",
       "      <td>-86.2590</td>\n",
       "      <td>5901</td>\n",
       "      <td>Curator</td>\n",
       "      <td>1972-07-25</td>\n",
       "      <td>0b3a94c9a2f622d2f3c3399a6cc3910b</td>\n",
       "      <td>1331738511</td>\n",
       "      <td>34.956184</td>\n",
       "      <td>-86.986784</td>\n",
       "      <td>0</td>\n",
       "      <td>51.0</td>\n",
       "    </tr>\n",
       "    <tr>\n",
       "      <th>125748</th>\n",
       "      <td>125748</td>\n",
       "      <td>2020-08-04 00:05:40</td>\n",
       "      <td>3542162746848552</td>\n",
       "      <td>fraud_Stamm-Witting</td>\n",
       "      <td>shopping_net</td>\n",
       "      <td>2.30</td>\n",
       "      <td>Bradley</td>\n",
       "      <td>Anderson</td>\n",
       "      <td>M</td>\n",
       "      <td>3896 Gilmore Mill</td>\n",
       "      <td>...</td>\n",
       "      <td>-93.4824</td>\n",
       "      <td>744</td>\n",
       "      <td>Communications engineer</td>\n",
       "      <td>1968-01-28</td>\n",
       "      <td>f365432529de779881bd7a3292fcc38a</td>\n",
       "      <td>1375574740</td>\n",
       "      <td>43.455569</td>\n",
       "      <td>-93.662698</td>\n",
       "      <td>0</td>\n",
       "      <td>55.0</td>\n",
       "    </tr>\n",
       "    <tr>\n",
       "      <th>261154</th>\n",
       "      <td>261154</td>\n",
       "      <td>2019-05-10 09:04:20</td>\n",
       "      <td>4384910379661778</td>\n",
       "      <td>fraud_Howe Ltd</td>\n",
       "      <td>misc_pos</td>\n",
       "      <td>51.69</td>\n",
       "      <td>Michelle</td>\n",
       "      <td>Russell</td>\n",
       "      <td>F</td>\n",
       "      <td>55505 Christy Via</td>\n",
       "      <td>...</td>\n",
       "      <td>-96.4092</td>\n",
       "      <td>4508</td>\n",
       "      <td>Naval architect</td>\n",
       "      <td>1949-04-24</td>\n",
       "      <td>35caf2d1468a377e45235274b005aa02</td>\n",
       "      <td>1336640660</td>\n",
       "      <td>46.851874</td>\n",
       "      <td>-97.269843</td>\n",
       "      <td>0</td>\n",
       "      <td>74.0</td>\n",
       "    </tr>\n",
       "  </tbody>\n",
       "</table>\n",
       "<p>5 rows × 24 columns</p>\n",
       "</div>"
      ],
      "text/plain": [
       "        Unnamed: 0 trans_date_trans_time            cc_num  \\\n",
       "123118      123118   2019-03-10 03:24:30    30011465039817   \n",
       "675160      675160   2019-10-14 15:40:47  2288813824604479   \n",
       "133167      133167   2019-03-14 15:21:51  2266735643685262   \n",
       "125748      125748   2020-08-04 00:05:40  3542162746848552   \n",
       "261154      261154   2019-05-10 09:04:20  4384910379661778   \n",
       "\n",
       "                   merchant        category    amt     first      last gender  \\\n",
       "123118    fraud_Huels-Nolan   gas_transport  67.66      Lisa    Garcia      F   \n",
       "675160    fraud_Yost-Rogahn   personal_care  47.79   Barbara    Norman      F   \n",
       "133167   fraud_Roob-Okuneva  health_fitness  24.17    Carlos     Chung      M   \n",
       "125748  fraud_Stamm-Witting    shopping_net   2.30   Bradley  Anderson      M   \n",
       "261154       fraud_Howe Ltd        misc_pos  51.69  Michelle   Russell      F   \n",
       "\n",
       "                       street  ...     long city_pop                      job  \\\n",
       "123118    213 Gill Expressway  ... -73.5873     4015  Human resources officer   \n",
       "675160  6278 Stephanie Unions  ... -73.9383  1577385                Herbalist   \n",
       "133167       8957 Russell Key  ... -86.2590     5901                  Curator   \n",
       "125748      3896 Gilmore Mill  ... -93.4824      744  Communications engineer   \n",
       "261154      55505 Christy Via  ... -96.4092     4508          Naval architect   \n",
       "\n",
       "              dob                         trans_num   unix_time  merch_lat  \\\n",
       "123118 1971-10-14  6744f95a0c456529c4a35cb30a5cb396  1331349870  42.974691   \n",
       "675160 1981-08-29  7c53e2c5bb6aa689753574d9f8ae623f  1350229247  41.046486   \n",
       "133167 1972-07-25  0b3a94c9a2f622d2f3c3399a6cc3910b  1331738511  34.956184   \n",
       "125748 1968-01-28  f365432529de779881bd7a3292fcc38a  1375574740  43.455569   \n",
       "261154 1949-04-24  35caf2d1468a377e45235274b005aa02  1336640660  46.851874   \n",
       "\n",
       "       merch_long is_fraud   age  \n",
       "123118 -73.944930        0  52.0  \n",
       "675160 -74.132901        0  42.0  \n",
       "133167 -86.986784        0  51.0  \n",
       "125748 -93.662698        0  55.0  \n",
       "261154 -97.269843        0  74.0  \n",
       "\n",
       "[5 rows x 24 columns]"
      ]
     },
     "execution_count": 12,
     "metadata": {},
     "output_type": "execute_result"
    }
   ],
   "source": [
    "df.head(5)"
   ]
  },
  {
   "cell_type": "code",
   "execution_count": 13,
   "id": "9912285a",
   "metadata": {},
   "outputs": [],
   "source": [
    "df=df.drop(columns=[\"first\",\"last\",\"street\",\"city\",\"state\",\"zip\",\"cc_num\"])"
   ]
  },
  {
   "cell_type": "code",
   "execution_count": 14,
   "id": "cc87d00f",
   "metadata": {},
   "outputs": [],
   "source": [
    "df=df.drop(columns=[\"dob\"])"
   ]
  },
  {
   "cell_type": "code",
   "execution_count": 15,
   "id": "9d354ee3",
   "metadata": {},
   "outputs": [],
   "source": [
    "df=df.drop(columns=['unix_time'])"
   ]
  },
  {
   "cell_type": "code",
   "execution_count": 16,
   "id": "70942a01",
   "metadata": {},
   "outputs": [
    {
     "data": {
      "text/html": [
       "<div>\n",
       "<style scoped>\n",
       "    .dataframe tbody tr th:only-of-type {\n",
       "        vertical-align: middle;\n",
       "    }\n",
       "\n",
       "    .dataframe tbody tr th {\n",
       "        vertical-align: top;\n",
       "    }\n",
       "\n",
       "    .dataframe thead th {\n",
       "        text-align: right;\n",
       "    }\n",
       "</style>\n",
       "<table border=\"1\" class=\"dataframe\">\n",
       "  <thead>\n",
       "    <tr style=\"text-align: right;\">\n",
       "      <th></th>\n",
       "      <th>Unnamed: 0</th>\n",
       "      <th>trans_date_trans_time</th>\n",
       "      <th>merchant</th>\n",
       "      <th>category</th>\n",
       "      <th>amt</th>\n",
       "      <th>gender</th>\n",
       "      <th>lat</th>\n",
       "      <th>long</th>\n",
       "      <th>city_pop</th>\n",
       "      <th>job</th>\n",
       "      <th>trans_num</th>\n",
       "      <th>merch_lat</th>\n",
       "      <th>merch_long</th>\n",
       "      <th>is_fraud</th>\n",
       "      <th>age</th>\n",
       "    </tr>\n",
       "  </thead>\n",
       "  <tbody>\n",
       "    <tr>\n",
       "      <th>123118</th>\n",
       "      <td>123118</td>\n",
       "      <td>2019-03-10 03:24:30</td>\n",
       "      <td>fraud_Huels-Nolan</td>\n",
       "      <td>gas_transport</td>\n",
       "      <td>67.66</td>\n",
       "      <td>F</td>\n",
       "      <td>42.3496</td>\n",
       "      <td>-73.5873</td>\n",
       "      <td>4015</td>\n",
       "      <td>Human resources officer</td>\n",
       "      <td>6744f95a0c456529c4a35cb30a5cb396</td>\n",
       "      <td>42.974691</td>\n",
       "      <td>-73.944930</td>\n",
       "      <td>0</td>\n",
       "      <td>52.0</td>\n",
       "    </tr>\n",
       "    <tr>\n",
       "      <th>675160</th>\n",
       "      <td>675160</td>\n",
       "      <td>2019-10-14 15:40:47</td>\n",
       "      <td>fraud_Yost-Rogahn</td>\n",
       "      <td>personal_care</td>\n",
       "      <td>47.79</td>\n",
       "      <td>F</td>\n",
       "      <td>40.8265</td>\n",
       "      <td>-73.9383</td>\n",
       "      <td>1577385</td>\n",
       "      <td>Herbalist</td>\n",
       "      <td>7c53e2c5bb6aa689753574d9f8ae623f</td>\n",
       "      <td>41.046486</td>\n",
       "      <td>-74.132901</td>\n",
       "      <td>0</td>\n",
       "      <td>42.0</td>\n",
       "    </tr>\n",
       "    <tr>\n",
       "      <th>133167</th>\n",
       "      <td>133167</td>\n",
       "      <td>2019-03-14 15:21:51</td>\n",
       "      <td>fraud_Roob-Okuneva</td>\n",
       "      <td>health_fitness</td>\n",
       "      <td>24.17</td>\n",
       "      <td>M</td>\n",
       "      <td>34.4959</td>\n",
       "      <td>-86.2590</td>\n",
       "      <td>5901</td>\n",
       "      <td>Curator</td>\n",
       "      <td>0b3a94c9a2f622d2f3c3399a6cc3910b</td>\n",
       "      <td>34.956184</td>\n",
       "      <td>-86.986784</td>\n",
       "      <td>0</td>\n",
       "      <td>51.0</td>\n",
       "    </tr>\n",
       "    <tr>\n",
       "      <th>125748</th>\n",
       "      <td>125748</td>\n",
       "      <td>2020-08-04 00:05:40</td>\n",
       "      <td>fraud_Stamm-Witting</td>\n",
       "      <td>shopping_net</td>\n",
       "      <td>2.30</td>\n",
       "      <td>M</td>\n",
       "      <td>43.5089</td>\n",
       "      <td>-93.4824</td>\n",
       "      <td>744</td>\n",
       "      <td>Communications engineer</td>\n",
       "      <td>f365432529de779881bd7a3292fcc38a</td>\n",
       "      <td>43.455569</td>\n",
       "      <td>-93.662698</td>\n",
       "      <td>0</td>\n",
       "      <td>55.0</td>\n",
       "    </tr>\n",
       "    <tr>\n",
       "      <th>261154</th>\n",
       "      <td>261154</td>\n",
       "      <td>2019-05-10 09:04:20</td>\n",
       "      <td>fraud_Howe Ltd</td>\n",
       "      <td>misc_pos</td>\n",
       "      <td>51.69</td>\n",
       "      <td>F</td>\n",
       "      <td>46.9777</td>\n",
       "      <td>-96.4092</td>\n",
       "      <td>4508</td>\n",
       "      <td>Naval architect</td>\n",
       "      <td>35caf2d1468a377e45235274b005aa02</td>\n",
       "      <td>46.851874</td>\n",
       "      <td>-97.269843</td>\n",
       "      <td>0</td>\n",
       "      <td>74.0</td>\n",
       "    </tr>\n",
       "  </tbody>\n",
       "</table>\n",
       "</div>"
      ],
      "text/plain": [
       "        Unnamed: 0 trans_date_trans_time             merchant        category  \\\n",
       "123118      123118   2019-03-10 03:24:30    fraud_Huels-Nolan   gas_transport   \n",
       "675160      675160   2019-10-14 15:40:47    fraud_Yost-Rogahn   personal_care   \n",
       "133167      133167   2019-03-14 15:21:51   fraud_Roob-Okuneva  health_fitness   \n",
       "125748      125748   2020-08-04 00:05:40  fraud_Stamm-Witting    shopping_net   \n",
       "261154      261154   2019-05-10 09:04:20       fraud_Howe Ltd        misc_pos   \n",
       "\n",
       "          amt gender      lat     long  city_pop                      job  \\\n",
       "123118  67.66      F  42.3496 -73.5873      4015  Human resources officer   \n",
       "675160  47.79      F  40.8265 -73.9383   1577385                Herbalist   \n",
       "133167  24.17      M  34.4959 -86.2590      5901                  Curator   \n",
       "125748   2.30      M  43.5089 -93.4824       744  Communications engineer   \n",
       "261154  51.69      F  46.9777 -96.4092      4508          Naval architect   \n",
       "\n",
       "                               trans_num  merch_lat  merch_long  is_fraud  \\\n",
       "123118  6744f95a0c456529c4a35cb30a5cb396  42.974691  -73.944930         0   \n",
       "675160  7c53e2c5bb6aa689753574d9f8ae623f  41.046486  -74.132901         0   \n",
       "133167  0b3a94c9a2f622d2f3c3399a6cc3910b  34.956184  -86.986784         0   \n",
       "125748  f365432529de779881bd7a3292fcc38a  43.455569  -93.662698         0   \n",
       "261154  35caf2d1468a377e45235274b005aa02  46.851874  -97.269843         0   \n",
       "\n",
       "         age  \n",
       "123118  52.0  \n",
       "675160  42.0  \n",
       "133167  51.0  \n",
       "125748  55.0  \n",
       "261154  74.0  "
      ]
     },
     "execution_count": 16,
     "metadata": {},
     "output_type": "execute_result"
    }
   ],
   "source": [
    "df.head(5)"
   ]
  },
  {
   "cell_type": "code",
   "execution_count": 17,
   "id": "af15693f",
   "metadata": {},
   "outputs": [],
   "source": [
    "df['trans_date_trans_time'] = pd.to_datetime(df['trans_date_trans_time'], format='%Y-%m-%d %H:%M:%S')\n",
    "\n",
    "df['transaction_time_minutes'] = df['trans_date_trans_time'].dt.hour * 60 + df['trans_date_trans_time'].dt.minute+ df['trans_date_trans_time'].dt.second / 60\n",
    "\n",
    "\n"
   ]
  },
  {
   "cell_type": "code",
   "execution_count": 18,
   "id": "f445d4f6",
   "metadata": {
    "scrolled": true
   },
   "outputs": [
    {
     "data": {
      "text/html": [
       "<div>\n",
       "<style scoped>\n",
       "    .dataframe tbody tr th:only-of-type {\n",
       "        vertical-align: middle;\n",
       "    }\n",
       "\n",
       "    .dataframe tbody tr th {\n",
       "        vertical-align: top;\n",
       "    }\n",
       "\n",
       "    .dataframe thead th {\n",
       "        text-align: right;\n",
       "    }\n",
       "</style>\n",
       "<table border=\"1\" class=\"dataframe\">\n",
       "  <thead>\n",
       "    <tr style=\"text-align: right;\">\n",
       "      <th></th>\n",
       "      <th>Unnamed: 0</th>\n",
       "      <th>trans_date_trans_time</th>\n",
       "      <th>merchant</th>\n",
       "      <th>category</th>\n",
       "      <th>amt</th>\n",
       "      <th>gender</th>\n",
       "      <th>lat</th>\n",
       "      <th>long</th>\n",
       "      <th>city_pop</th>\n",
       "      <th>job</th>\n",
       "      <th>trans_num</th>\n",
       "      <th>merch_lat</th>\n",
       "      <th>merch_long</th>\n",
       "      <th>is_fraud</th>\n",
       "      <th>age</th>\n",
       "      <th>transaction_time_minutes</th>\n",
       "    </tr>\n",
       "  </thead>\n",
       "  <tbody>\n",
       "    <tr>\n",
       "      <th>123118</th>\n",
       "      <td>123118</td>\n",
       "      <td>2019-03-10 03:24:30</td>\n",
       "      <td>fraud_Huels-Nolan</td>\n",
       "      <td>gas_transport</td>\n",
       "      <td>67.66</td>\n",
       "      <td>F</td>\n",
       "      <td>42.3496</td>\n",
       "      <td>-73.5873</td>\n",
       "      <td>4015</td>\n",
       "      <td>Human resources officer</td>\n",
       "      <td>6744f95a0c456529c4a35cb30a5cb396</td>\n",
       "      <td>42.974691</td>\n",
       "      <td>-73.944930</td>\n",
       "      <td>0</td>\n",
       "      <td>52.0</td>\n",
       "      <td>204.500000</td>\n",
       "    </tr>\n",
       "    <tr>\n",
       "      <th>675160</th>\n",
       "      <td>675160</td>\n",
       "      <td>2019-10-14 15:40:47</td>\n",
       "      <td>fraud_Yost-Rogahn</td>\n",
       "      <td>personal_care</td>\n",
       "      <td>47.79</td>\n",
       "      <td>F</td>\n",
       "      <td>40.8265</td>\n",
       "      <td>-73.9383</td>\n",
       "      <td>1577385</td>\n",
       "      <td>Herbalist</td>\n",
       "      <td>7c53e2c5bb6aa689753574d9f8ae623f</td>\n",
       "      <td>41.046486</td>\n",
       "      <td>-74.132901</td>\n",
       "      <td>0</td>\n",
       "      <td>42.0</td>\n",
       "      <td>940.783333</td>\n",
       "    </tr>\n",
       "    <tr>\n",
       "      <th>133167</th>\n",
       "      <td>133167</td>\n",
       "      <td>2019-03-14 15:21:51</td>\n",
       "      <td>fraud_Roob-Okuneva</td>\n",
       "      <td>health_fitness</td>\n",
       "      <td>24.17</td>\n",
       "      <td>M</td>\n",
       "      <td>34.4959</td>\n",
       "      <td>-86.2590</td>\n",
       "      <td>5901</td>\n",
       "      <td>Curator</td>\n",
       "      <td>0b3a94c9a2f622d2f3c3399a6cc3910b</td>\n",
       "      <td>34.956184</td>\n",
       "      <td>-86.986784</td>\n",
       "      <td>0</td>\n",
       "      <td>51.0</td>\n",
       "      <td>921.850000</td>\n",
       "    </tr>\n",
       "    <tr>\n",
       "      <th>125748</th>\n",
       "      <td>125748</td>\n",
       "      <td>2020-08-04 00:05:40</td>\n",
       "      <td>fraud_Stamm-Witting</td>\n",
       "      <td>shopping_net</td>\n",
       "      <td>2.30</td>\n",
       "      <td>M</td>\n",
       "      <td>43.5089</td>\n",
       "      <td>-93.4824</td>\n",
       "      <td>744</td>\n",
       "      <td>Communications engineer</td>\n",
       "      <td>f365432529de779881bd7a3292fcc38a</td>\n",
       "      <td>43.455569</td>\n",
       "      <td>-93.662698</td>\n",
       "      <td>0</td>\n",
       "      <td>55.0</td>\n",
       "      <td>5.666667</td>\n",
       "    </tr>\n",
       "    <tr>\n",
       "      <th>261154</th>\n",
       "      <td>261154</td>\n",
       "      <td>2019-05-10 09:04:20</td>\n",
       "      <td>fraud_Howe Ltd</td>\n",
       "      <td>misc_pos</td>\n",
       "      <td>51.69</td>\n",
       "      <td>F</td>\n",
       "      <td>46.9777</td>\n",
       "      <td>-96.4092</td>\n",
       "      <td>4508</td>\n",
       "      <td>Naval architect</td>\n",
       "      <td>35caf2d1468a377e45235274b005aa02</td>\n",
       "      <td>46.851874</td>\n",
       "      <td>-97.269843</td>\n",
       "      <td>0</td>\n",
       "      <td>74.0</td>\n",
       "      <td>544.333333</td>\n",
       "    </tr>\n",
       "  </tbody>\n",
       "</table>\n",
       "</div>"
      ],
      "text/plain": [
       "        Unnamed: 0 trans_date_trans_time             merchant        category  \\\n",
       "123118      123118   2019-03-10 03:24:30    fraud_Huels-Nolan   gas_transport   \n",
       "675160      675160   2019-10-14 15:40:47    fraud_Yost-Rogahn   personal_care   \n",
       "133167      133167   2019-03-14 15:21:51   fraud_Roob-Okuneva  health_fitness   \n",
       "125748      125748   2020-08-04 00:05:40  fraud_Stamm-Witting    shopping_net   \n",
       "261154      261154   2019-05-10 09:04:20       fraud_Howe Ltd        misc_pos   \n",
       "\n",
       "          amt gender      lat     long  city_pop                      job  \\\n",
       "123118  67.66      F  42.3496 -73.5873      4015  Human resources officer   \n",
       "675160  47.79      F  40.8265 -73.9383   1577385                Herbalist   \n",
       "133167  24.17      M  34.4959 -86.2590      5901                  Curator   \n",
       "125748   2.30      M  43.5089 -93.4824       744  Communications engineer   \n",
       "261154  51.69      F  46.9777 -96.4092      4508          Naval architect   \n",
       "\n",
       "                               trans_num  merch_lat  merch_long  is_fraud  \\\n",
       "123118  6744f95a0c456529c4a35cb30a5cb396  42.974691  -73.944930         0   \n",
       "675160  7c53e2c5bb6aa689753574d9f8ae623f  41.046486  -74.132901         0   \n",
       "133167  0b3a94c9a2f622d2f3c3399a6cc3910b  34.956184  -86.986784         0   \n",
       "125748  f365432529de779881bd7a3292fcc38a  43.455569  -93.662698         0   \n",
       "261154  35caf2d1468a377e45235274b005aa02  46.851874  -97.269843         0   \n",
       "\n",
       "         age  transaction_time_minutes  \n",
       "123118  52.0                204.500000  \n",
       "675160  42.0                940.783333  \n",
       "133167  51.0                921.850000  \n",
       "125748  55.0                  5.666667  \n",
       "261154  74.0                544.333333  "
      ]
     },
     "execution_count": 18,
     "metadata": {},
     "output_type": "execute_result"
    }
   ],
   "source": [
    "df.head(5)"
   ]
  },
  {
   "cell_type": "code",
   "execution_count": 19,
   "id": "e4fca089",
   "metadata": {},
   "outputs": [
    {
     "data": {
      "text/plain": [
       "<AxesSubplot:xlabel='gender', ylabel='count'>"
      ]
     },
     "execution_count": 19,
     "metadata": {},
     "output_type": "execute_result"
    },
    {
     "data": {
      "image/png": "[encoded data removed]",
      "text/plain": [
       "<Figure size 640x480 with 1 Axes>"
      ]
     },
     "metadata": {},
     "output_type": "display_data"
    }
   ],
   "source": [
    "sns.countplot(data=df,x=\"gender\",hue=\"is_fraud\")"
   ]
  },
  {
   "cell_type": "markdown",
   "id": "d16b10dc",
   "metadata": {},
   "source": [
    "Accounts helb by males are more likely to be scammed."
   ]
  },
  {
   "cell_type": "code",
   "execution_count": 20,
   "id": "10ff135e",
   "metadata": {},
   "outputs": [
    {
     "data": {
      "text/plain": [
       "count    19302.000000\n",
       "mean        50.950627\n",
       "std         18.083741\n",
       "min         18.000000\n",
       "25%         36.000000\n",
       "50%         49.000000\n",
       "75%         63.000000\n",
       "max         98.000000\n",
       "Name: age, dtype: float64"
      ]
     },
     "execution_count": 20,
     "metadata": {},
     "output_type": "execute_result"
    }
   ],
   "source": [
    "df['age'].describe()"
   ]
  },
  {
   "cell_type": "code",
   "execution_count": 21,
   "id": "30c144fc",
   "metadata": {},
   "outputs": [
    {
     "data": {
      "text/html": [
       "<div>\n",
       "<style scoped>\n",
       "    .dataframe tbody tr th:only-of-type {\n",
       "        vertical-align: middle;\n",
       "    }\n",
       "\n",
       "    .dataframe tbody tr th {\n",
       "        vertical-align: top;\n",
       "    }\n",
       "\n",
       "    .dataframe thead th {\n",
       "        text-align: right;\n",
       "    }\n",
       "</style>\n",
       "<table border=\"1\" class=\"dataframe\">\n",
       "  <thead>\n",
       "    <tr style=\"text-align: right;\">\n",
       "      <th></th>\n",
       "      <th>Unnamed: 0</th>\n",
       "      <th>trans_date_trans_time</th>\n",
       "      <th>merchant</th>\n",
       "      <th>category</th>\n",
       "      <th>amt</th>\n",
       "      <th>gender</th>\n",
       "      <th>lat</th>\n",
       "      <th>long</th>\n",
       "      <th>city_pop</th>\n",
       "      <th>job</th>\n",
       "      <th>trans_num</th>\n",
       "      <th>merch_lat</th>\n",
       "      <th>merch_long</th>\n",
       "      <th>is_fraud</th>\n",
       "      <th>age</th>\n",
       "      <th>transaction_time_minutes</th>\n",
       "      <th>AgeGroup</th>\n",
       "    </tr>\n",
       "  </thead>\n",
       "  <tbody>\n",
       "    <tr>\n",
       "      <th>123118</th>\n",
       "      <td>123118</td>\n",
       "      <td>2019-03-10 03:24:30</td>\n",
       "      <td>fraud_Huels-Nolan</td>\n",
       "      <td>gas_transport</td>\n",
       "      <td>67.66</td>\n",
       "      <td>F</td>\n",
       "      <td>42.3496</td>\n",
       "      <td>-73.5873</td>\n",
       "      <td>4015</td>\n",
       "      <td>Human resources officer</td>\n",
       "      <td>6744f95a0c456529c4a35cb30a5cb396</td>\n",
       "      <td>42.974691</td>\n",
       "      <td>-73.944930</td>\n",
       "      <td>0</td>\n",
       "      <td>52.0</td>\n",
       "      <td>204.500000</td>\n",
       "      <td>under 60</td>\n",
       "    </tr>\n",
       "    <tr>\n",
       "      <th>675160</th>\n",
       "      <td>675160</td>\n",
       "      <td>2019-10-14 15:40:47</td>\n",
       "      <td>fraud_Yost-Rogahn</td>\n",
       "      <td>personal_care</td>\n",
       "      <td>47.79</td>\n",
       "      <td>F</td>\n",
       "      <td>40.8265</td>\n",
       "      <td>-73.9383</td>\n",
       "      <td>1577385</td>\n",
       "      <td>Herbalist</td>\n",
       "      <td>7c53e2c5bb6aa689753574d9f8ae623f</td>\n",
       "      <td>41.046486</td>\n",
       "      <td>-74.132901</td>\n",
       "      <td>0</td>\n",
       "      <td>42.0</td>\n",
       "      <td>940.783333</td>\n",
       "      <td>under 45</td>\n",
       "    </tr>\n",
       "    <tr>\n",
       "      <th>133167</th>\n",
       "      <td>133167</td>\n",
       "      <td>2019-03-14 15:21:51</td>\n",
       "      <td>fraud_Roob-Okuneva</td>\n",
       "      <td>health_fitness</td>\n",
       "      <td>24.17</td>\n",
       "      <td>M</td>\n",
       "      <td>34.4959</td>\n",
       "      <td>-86.2590</td>\n",
       "      <td>5901</td>\n",
       "      <td>Curator</td>\n",
       "      <td>0b3a94c9a2f622d2f3c3399a6cc3910b</td>\n",
       "      <td>34.956184</td>\n",
       "      <td>-86.986784</td>\n",
       "      <td>0</td>\n",
       "      <td>51.0</td>\n",
       "      <td>921.850000</td>\n",
       "      <td>under 60</td>\n",
       "    </tr>\n",
       "    <tr>\n",
       "      <th>125748</th>\n",
       "      <td>125748</td>\n",
       "      <td>2020-08-04 00:05:40</td>\n",
       "      <td>fraud_Stamm-Witting</td>\n",
       "      <td>shopping_net</td>\n",
       "      <td>2.30</td>\n",
       "      <td>M</td>\n",
       "      <td>43.5089</td>\n",
       "      <td>-93.4824</td>\n",
       "      <td>744</td>\n",
       "      <td>Communications engineer</td>\n",
       "      <td>f365432529de779881bd7a3292fcc38a</td>\n",
       "      <td>43.455569</td>\n",
       "      <td>-93.662698</td>\n",
       "      <td>0</td>\n",
       "      <td>55.0</td>\n",
       "      <td>5.666667</td>\n",
       "      <td>under 60</td>\n",
       "    </tr>\n",
       "    <tr>\n",
       "      <th>261154</th>\n",
       "      <td>261154</td>\n",
       "      <td>2019-05-10 09:04:20</td>\n",
       "      <td>fraud_Howe Ltd</td>\n",
       "      <td>misc_pos</td>\n",
       "      <td>51.69</td>\n",
       "      <td>F</td>\n",
       "      <td>46.9777</td>\n",
       "      <td>-96.4092</td>\n",
       "      <td>4508</td>\n",
       "      <td>Naval architect</td>\n",
       "      <td>35caf2d1468a377e45235274b005aa02</td>\n",
       "      <td>46.851874</td>\n",
       "      <td>-97.269843</td>\n",
       "      <td>0</td>\n",
       "      <td>74.0</td>\n",
       "      <td>544.333333</td>\n",
       "      <td>more than 60</td>\n",
       "    </tr>\n",
       "  </tbody>\n",
       "</table>\n",
       "</div>"
      ],
      "text/plain": [
       "        Unnamed: 0 trans_date_trans_time             merchant        category  \\\n",
       "123118      123118   2019-03-10 03:24:30    fraud_Huels-Nolan   gas_transport   \n",
       "675160      675160   2019-10-14 15:40:47    fraud_Yost-Rogahn   personal_care   \n",
       "133167      133167   2019-03-14 15:21:51   fraud_Roob-Okuneva  health_fitness   \n",
       "125748      125748   2020-08-04 00:05:40  fraud_Stamm-Witting    shopping_net   \n",
       "261154      261154   2019-05-10 09:04:20       fraud_Howe Ltd        misc_pos   \n",
       "\n",
       "          amt gender      lat     long  city_pop                      job  \\\n",
       "123118  67.66      F  42.3496 -73.5873      4015  Human resources officer   \n",
       "675160  47.79      F  40.8265 -73.9383   1577385                Herbalist   \n",
       "133167  24.17      M  34.4959 -86.2590      5901                  Curator   \n",
       "125748   2.30      M  43.5089 -93.4824       744  Communications engineer   \n",
       "261154  51.69      F  46.9777 -96.4092      4508          Naval architect   \n",
       "\n",
       "                               trans_num  merch_lat  merch_long  is_fraud  \\\n",
       "123118  6744f95a0c456529c4a35cb30a5cb396  42.974691  -73.944930         0   \n",
       "675160  7c53e2c5bb6aa689753574d9f8ae623f  41.046486  -74.132901         0   \n",
       "133167  0b3a94c9a2f622d2f3c3399a6cc3910b  34.956184  -86.986784         0   \n",
       "125748  f365432529de779881bd7a3292fcc38a  43.455569  -93.662698         0   \n",
       "261154  35caf2d1468a377e45235274b005aa02  46.851874  -97.269843         0   \n",
       "\n",
       "         age  transaction_time_minutes      AgeGroup  \n",
       "123118  52.0                204.500000      under 60  \n",
       "675160  42.0                940.783333      under 45  \n",
       "133167  51.0                921.850000      under 60  \n",
       "125748  55.0                  5.666667      under 60  \n",
       "261154  74.0                544.333333  more than 60  "
      ]
     },
     "execution_count": 21,
     "metadata": {},
     "output_type": "execute_result"
    }
   ],
   "source": [
    "bins= [18,25,45,60,98]\n",
    "labels = ['under 25','under 45','under 60','more than 60']\n",
    "df['AgeGroup'] = pd.cut(df['age'], bins=bins, labels=labels, right=False)\n",
    "df.head(5)"
   ]
  },
  {
   "cell_type": "code",
   "execution_count": 22,
   "id": "cac4a797",
   "metadata": {},
   "outputs": [
    {
     "data": {
      "text/plain": [
       "<AxesSubplot:xlabel='AgeGroup', ylabel='count'>"
      ]
     },
     "execution_count": 22,
     "metadata": {},
     "output_type": "execute_result"
    },
    {
     "data": {
      "image/png": "[encoded data removed]",
      "text/plain": [
       "<Figure size 640x480 with 1 Axes>"
      ]
     },
     "metadata": {},
     "output_type": "display_data"
    }
   ],
   "source": [
    "sns.countplot(data=df,x='AgeGroup',hue=\"is_fraud\")"
   ]
  },
  {
   "cell_type": "markdown",
   "id": "dab566d4",
   "metadata": {},
   "source": [
    "people who are more than 60 are likely to be scammed."
   ]
  },
  {
   "cell_type": "code",
   "execution_count": 23,
   "id": "f2816ae8",
   "metadata": {},
   "outputs": [
    {
     "data": {
      "text/plain": [
       "Index(['Unnamed: 0', 'trans_date_trans_time', 'merchant', 'category', 'amt',\n",
       "       'gender', 'lat', 'long', 'city_pop', 'job', 'trans_num', 'merch_lat',\n",
       "       'merch_long', 'is_fraud', 'age', 'transaction_time_minutes',\n",
       "       'AgeGroup'],\n",
       "      dtype='object')"
      ]
     },
     "execution_count": 23,
     "metadata": {},
     "output_type": "execute_result"
    }
   ],
   "source": [
    "df.columns"
   ]
  },
  {
   "cell_type": "code",
   "execution_count": 43,
   "id": "79779ccc",
   "metadata": {},
   "outputs": [],
   "source": [
    "X=df.drop(columns=['Unnamed: 0', 'trans_date_trans_time', 'AgeGroup','is_fraud','merchant', 'category','trans_num','job','gender'])"
   ]
  },
  {
   "cell_type": "code",
   "execution_count": 44,
   "id": "003a078b",
   "metadata": {},
   "outputs": [],
   "source": [
    "y=df['is_fraud']"
   ]
  },
  {
   "cell_type": "code",
   "execution_count": 45,
   "id": "7152dd08",
   "metadata": {},
   "outputs": [
    {
     "data": {
      "text/plain": [
       "Index(['amt', 'lat', 'long', 'city_pop', 'merch_lat', 'merch_long', 'age',\n",
       "       'transaction_time_minutes'],\n",
       "      dtype='object')"
      ]
     },
     "execution_count": 45,
     "metadata": {},
     "output_type": "execute_result"
    }
   ],
   "source": [
    "X.columns"
   ]
  },
  {
   "cell_type": "code",
   "execution_count": 46,
   "id": "b2fe2390",
   "metadata": {},
   "outputs": [],
   "source": [
    "from sklearn.model_selection import train_test_split"
   ]
  },
  {
   "cell_type": "code",
   "execution_count": 47,
   "id": "616cccfa",
   "metadata": {},
   "outputs": [],
   "source": [
    "X_train,X_test,y_train,y_test=train_test_split(X,y,test_size=0.30,random_state=101)"
   ]
  },
  {
   "cell_type": "code",
   "execution_count": 48,
   "id": "66401600",
   "metadata": {},
   "outputs": [
    {
     "data": {
      "text/html": [
       "<style>#sk-container-id-1 {color: black;}#sk-container-id-1 pre{padding: 0;}#sk-container-id-1 div.sk-toggleable {background-color: white;}#sk-container-id-1 label.sk-toggleable__label {cursor: pointer;display: block;width: 100%;margin-bottom: 0;padding: 0.3em;box-sizing: border-box;text-align: center;}#sk-container-id-1 label.sk-toggleable__label-arrow:before {content: \"▸\";float: left;margin-right: 0.25em;color: #696969;}#sk-container-id-1 label.sk-toggleable__label-arrow:hover:before {color: black;}#sk-container-id-1 div.sk-estimator:hover label.sk-toggleable__label-arrow:before {color: black;}#sk-container-id-1 div.sk-toggleable__content {max-height: 0;max-width: 0;overflow: hidden;text-align: left;background-color: #f0f8ff;}#sk-container-id-1 div.sk-toggleable__content pre {margin: 0.2em;color: black;border-radius: 0.25em;background-color: #f0f8ff;}#sk-container-id-1 input.sk-toggleable__control:checked~div.sk-toggleable__content {max-height: 200px;max-width: 100%;overflow: auto;}#sk-container-id-1 input.sk-toggleable__control:checked~label.sk-toggleable__label-arrow:before {content: \"▾\";}#sk-container-id-1 div.sk-estimator input.sk-toggleable__control:checked~label.sk-toggleable__label {background-color: #d4ebff;}#sk-container-id-1 div.sk-label input.sk-toggleable__control:checked~label.sk-toggleable__label {background-color: #d4ebff;}#sk-container-id-1 input.sk-hidden--visually {border: 0;clip: rect(1px 1px 1px 1px);clip: rect(1px, 1px, 1px, 1px);height: 1px;margin: -1px;overflow: hidden;padding: 0;position: absolute;width: 1px;}#sk-container-id-1 div.sk-estimator {font-family: monospace;background-color: #f0f8ff;border: 1px dotted black;border-radius: 0.25em;box-sizing: border-box;margin-bottom: 0.5em;}#sk-container-id-1 div.sk-estimator:hover {background-color: #d4ebff;}#sk-container-id-1 div.sk-parallel-item::after {content: \"\";width: 100%;border-bottom: 1px solid gray;flex-grow: 1;}#sk-container-id-1 div.sk-label:hover label.sk-toggleable__label {background-color: #d4ebff;}#sk-container-id-1 div.sk-serial::before {content: \"\";position: absolute;border-left: 1px solid gray;box-sizing: border-box;top: 0;bottom: 0;left: 50%;z-index: 0;}#sk-container-id-1 div.sk-serial {display: flex;flex-direction: column;align-items: center;background-color: white;padding-right: 0.2em;padding-left: 0.2em;position: relative;}#sk-container-id-1 div.sk-item {position: relative;z-index: 1;}#sk-container-id-1 div.sk-parallel {display: flex;align-items: stretch;justify-content: center;background-color: white;position: relative;}#sk-container-id-1 div.sk-item::before, #sk-container-id-1 div.sk-parallel-item::before {content: \"\";position: absolute;border-left: 1px solid gray;box-sizing: border-box;top: 0;bottom: 0;left: 50%;z-index: -1;}#sk-container-id-1 div.sk-parallel-item {display: flex;flex-direction: column;z-index: 1;position: relative;background-color: white;}#sk-container-id-1 div.sk-parallel-item:first-child::after {align-self: flex-end;width: 50%;}#sk-container-id-1 div.sk-parallel-item:last-child::after {align-self: flex-start;width: 50%;}#sk-container-id-1 div.sk-parallel-item:only-child::after {width: 0;}#sk-container-id-1 div.sk-dashed-wrapped {border: 1px dashed gray;margin: 0 0.4em 0.5em 0.4em;box-sizing: border-box;padding-bottom: 0.4em;background-color: white;}#sk-container-id-1 div.sk-label label {font-family: monospace;font-weight: bold;display: inline-block;line-height: 1.2em;}#sk-container-id-1 div.sk-label-container {text-align: center;}#sk-container-id-1 div.sk-container {/* jupyter's `normalize.less` sets `[hidden] { display: none; }` but bootstrap.min.css set `[hidden] { display: none !important; }` so we also need the `!important` here to be able to override the default hidden behavior on the sphinx rendered scikit-learn.org. See: https://github.com/scikit-learn/scikit-learn/issues/21755 */display: inline-block !important;position: relative;}#sk-container-id-1 div.sk-text-repr-fallback {display: none;}</style><div id=\"sk-container-id-1\" class=\"sk-top-container\"><div class=\"sk-text-repr-fallback\"><pre>RandomForestClassifier(criterion=&#x27;entropy&#x27;, n_estimators=10)</pre><b>In a Jupyter environment, please rerun this cell to show the HTML representation or trust the notebook. <br />On GitHub, the HTML representation is unable to render, please try loading this page with nbviewer.org.</b></div><div class=\"sk-container\" hidden><div class=\"sk-item\"><div class=\"sk-estimator sk-toggleable\"><input class=\"sk-toggleable__control sk-hidden--visually\" id=\"sk-estimator-id-1\" type=\"checkbox\" checked><label for=\"sk-estimator-id-1\" class=\"sk-toggleable__label sk-toggleable__label-arrow\">RandomForestClassifier</label><div class=\"sk-toggleable__content\"><pre>RandomForestClassifier(criterion=&#x27;entropy&#x27;, n_estimators=10)</pre></div></div></div></div></div>"
      ],
      "text/plain": [
       "RandomForestClassifier(criterion='entropy', n_estimators=10)"
      ]
     },
     "execution_count": 48,
     "metadata": {},
     "output_type": "execute_result"
    }
   ],
   "source": [
    "from sklearn.ensemble import RandomForestClassifier  \n",
    "classifier= RandomForestClassifier(n_estimators= 10, criterion=\"entropy\")  \n",
    "classifier.fit(X_train, y_train)  "
   ]
  },
  {
   "cell_type": "code",
   "execution_count": 51,
   "id": "38f3eff1",
   "metadata": {},
   "outputs": [],
   "source": [
    "y_pred=classifier.predict(X_test)"
   ]
  },
  {
   "cell_type": "code",
   "execution_count": 53,
   "id": "ae0d12fd",
   "metadata": {},
   "outputs": [
    {
     "data": {
      "text/plain": [
       "array([[2752,  149],\n",
       "       [ 237, 2653]], dtype=int64)"
      ]
     },
     "execution_count": 53,
     "metadata": {},
     "output_type": "execute_result"
    }
   ],
   "source": [
    "from sklearn.metrics import confusion_matrix  \n",
    "cm= confusion_matrix(y_test, y_pred)\n",
    "cm"
   ]
  },
  {
   "cell_type": "code",
   "execution_count": 54,
   "id": "1f22059e",
   "metadata": {},
   "outputs": [
    {
     "name": "stdout",
     "output_type": "stream",
     "text": [
      "              precision    recall  f1-score   support\n",
      "\n",
      "           0       0.92      0.95      0.93      2901\n",
      "           1       0.95      0.92      0.93      2890\n",
      "\n",
      "    accuracy                           0.93      5791\n",
      "   macro avg       0.93      0.93      0.93      5791\n",
      "weighted avg       0.93      0.93      0.93      5791\n",
      "\n"
     ]
    }
   ],
   "source": [
    "from sklearn.metrics import classification_report\n",
    "print(classification_report(y_test,pred))"
   ]
  },
  {
   "cell_type": "markdown",
   "id": "c5f0eec0",
   "metadata": {},
   "source": [
    "Accuracy of Random Forest is 93%"
   ]
  },
  {
   "cell_type": "code",
   "execution_count": 55,
   "id": "63605ddc",
   "metadata": {},
   "outputs": [],
   "source": [
    "from sklearn.linear_model import LinearRegression"
   ]
  },
  {
   "cell_type": "code",
   "execution_count": 56,
   "id": "1d260c85",
   "metadata": {},
   "outputs": [
    {
     "data": {
      "text/html": [
       "<style>#sk-container-id-2 {color: black;}#sk-container-id-2 pre{padding: 0;}#sk-container-id-2 div.sk-toggleable {background-color: white;}#sk-container-id-2 label.sk-toggleable__label {cursor: pointer;display: block;width: 100%;margin-bottom: 0;padding: 0.3em;box-sizing: border-box;text-align: center;}#sk-container-id-2 label.sk-toggleable__label-arrow:before {content: \"▸\";float: left;margin-right: 0.25em;color: #696969;}#sk-container-id-2 label.sk-toggleable__label-arrow:hover:before {color: black;}#sk-container-id-2 div.sk-estimator:hover label.sk-toggleable__label-arrow:before {color: black;}#sk-container-id-2 div.sk-toggleable__content {max-height: 0;max-width: 0;overflow: hidden;text-align: left;background-color: #f0f8ff;}#sk-container-id-2 div.sk-toggleable__content pre {margin: 0.2em;color: black;border-radius: 0.25em;background-color: #f0f8ff;}#sk-container-id-2 input.sk-toggleable__control:checked~div.sk-toggleable__content {max-height: 200px;max-width: 100%;overflow: auto;}#sk-container-id-2 input.sk-toggleable__control:checked~label.sk-toggleable__label-arrow:before {content: \"▾\";}#sk-container-id-2 div.sk-estimator input.sk-toggleable__control:checked~label.sk-toggleable__label {background-color: #d4ebff;}#sk-container-id-2 div.sk-label input.sk-toggleable__control:checked~label.sk-toggleable__label {background-color: #d4ebff;}#sk-container-id-2 input.sk-hidden--visually {border: 0;clip: rect(1px 1px 1px 1px);clip: rect(1px, 1px, 1px, 1px);height: 1px;margin: -1px;overflow: hidden;padding: 0;position: absolute;width: 1px;}#sk-container-id-2 div.sk-estimator {font-family: monospace;background-color: #f0f8ff;border: 1px dotted black;border-radius: 0.25em;box-sizing: border-box;margin-bottom: 0.5em;}#sk-container-id-2 div.sk-estimator:hover {background-color: #d4ebff;}#sk-container-id-2 div.sk-parallel-item::after {content: \"\";width: 100%;border-bottom: 1px solid gray;flex-grow: 1;}#sk-container-id-2 div.sk-label:hover label.sk-toggleable__label {background-color: #d4ebff;}#sk-container-id-2 div.sk-serial::before {content: \"\";position: absolute;border-left: 1px solid gray;box-sizing: border-box;top: 0;bottom: 0;left: 50%;z-index: 0;}#sk-container-id-2 div.sk-serial {display: flex;flex-direction: column;align-items: center;background-color: white;padding-right: 0.2em;padding-left: 0.2em;position: relative;}#sk-container-id-2 div.sk-item {position: relative;z-index: 1;}#sk-container-id-2 div.sk-parallel {display: flex;align-items: stretch;justify-content: center;background-color: white;position: relative;}#sk-container-id-2 div.sk-item::before, #sk-container-id-2 div.sk-parallel-item::before {content: \"\";position: absolute;border-left: 1px solid gray;box-sizing: border-box;top: 0;bottom: 0;left: 50%;z-index: -1;}#sk-container-id-2 div.sk-parallel-item {display: flex;flex-direction: column;z-index: 1;position: relative;background-color: white;}#sk-container-id-2 div.sk-parallel-item:first-child::after {align-self: flex-end;width: 50%;}#sk-container-id-2 div.sk-parallel-item:last-child::after {align-self: flex-start;width: 50%;}#sk-container-id-2 div.sk-parallel-item:only-child::after {width: 0;}#sk-container-id-2 div.sk-dashed-wrapped {border: 1px dashed gray;margin: 0 0.4em 0.5em 0.4em;box-sizing: border-box;padding-bottom: 0.4em;background-color: white;}#sk-container-id-2 div.sk-label label {font-family: monospace;font-weight: bold;display: inline-block;line-height: 1.2em;}#sk-container-id-2 div.sk-label-container {text-align: center;}#sk-container-id-2 div.sk-container {/* jupyter's `normalize.less` sets `[hidden] { display: none; }` but bootstrap.min.css set `[hidden] { display: none !important; }` so we also need the `!important` here to be able to override the default hidden behavior on the sphinx rendered scikit-learn.org. See: https://github.com/scikit-learn/scikit-learn/issues/21755 */display: inline-block !important;position: relative;}#sk-container-id-2 div.sk-text-repr-fallback {display: none;}</style><div id=\"sk-container-id-2\" class=\"sk-top-container\"><div class=\"sk-text-repr-fallback\"><pre>LinearRegression()</pre><b>In a Jupyter environment, please rerun this cell to show the HTML representation or trust the notebook. <br />On GitHub, the HTML representation is unable to render, please try loading this page with nbviewer.org.</b></div><div class=\"sk-container\" hidden><div class=\"sk-item\"><div class=\"sk-estimator sk-toggleable\"><input class=\"sk-toggleable__control sk-hidden--visually\" id=\"sk-estimator-id-2\" type=\"checkbox\" checked><label for=\"sk-estimator-id-2\" class=\"sk-toggleable__label sk-toggleable__label-arrow\">LinearRegression</label><div class=\"sk-toggleable__content\"><pre>LinearRegression()</pre></div></div></div></div></div>"
      ],
      "text/plain": [
       "LinearRegression()"
      ]
     },
     "execution_count": 56,
     "metadata": {},
     "output_type": "execute_result"
    }
   ],
   "source": [
    "lr=LinearRegression()\n",
    "lr.fit(X_train,y_train)"
   ]
  },
  {
   "cell_type": "code",
   "execution_count": 57,
   "id": "c0cf66f5",
   "metadata": {},
   "outputs": [],
   "source": [
    "lr_pred=lr.predict(X_test)"
   ]
  },
  {
   "cell_type": "code",
   "execution_count": 62,
   "id": "54381fb0",
   "metadata": {},
   "outputs": [
    {
     "name": "stdout",
     "output_type": "stream",
     "text": [
      "MSE 0.15179033853107113\n"
     ]
    }
   ],
   "source": [
    "from sklearn.metrics import mean_squared_error\n",
    "print(\"MSE\",mean_squared_error(y_test,lr_pred))"
   ]
  },
  {
   "cell_type": "code",
   "execution_count": 64,
   "id": "1a0d8562",
   "metadata": {},
   "outputs": [
    {
     "data": {
      "text/plain": [
       "0.38960279584606566"
      ]
     },
     "execution_count": 64,
     "metadata": {},
     "output_type": "execute_result"
    }
   ],
   "source": [
    "import numpy as np\n",
    "np.sqrt(mean_squared_error(y_test,lr_pred))"
   ]
  },
  {
   "cell_type": "code",
   "execution_count": 65,
   "id": "b4d09342",
   "metadata": {},
   "outputs": [],
   "source": [
    "from sklearn.tree import DecisionTreeClassifier "
   ]
  },
  {
   "cell_type": "code",
   "execution_count": 66,
   "id": "9022de54",
   "metadata": {},
   "outputs": [],
   "source": [
    "dt=DecisionTreeClassifier()"
   ]
  },
  {
   "cell_type": "code",
   "execution_count": 67,
   "id": "6ce9914f",
   "metadata": {},
   "outputs": [
    {
     "data": {
      "text/html": [
       "<style>#sk-container-id-3 {color: black;}#sk-container-id-3 pre{padding: 0;}#sk-container-id-3 div.sk-toggleable {background-color: white;}#sk-container-id-3 label.sk-toggleable__label {cursor: pointer;display: block;width: 100%;margin-bottom: 0;padding: 0.3em;box-sizing: border-box;text-align: center;}#sk-container-id-3 label.sk-toggleable__label-arrow:before {content: \"▸\";float: left;margin-right: 0.25em;color: #696969;}#sk-container-id-3 label.sk-toggleable__label-arrow:hover:before {color: black;}#sk-container-id-3 div.sk-estimator:hover label.sk-toggleable__label-arrow:before {color: black;}#sk-container-id-3 div.sk-toggleable__content {max-height: 0;max-width: 0;overflow: hidden;text-align: left;background-color: #f0f8ff;}#sk-container-id-3 div.sk-toggleable__content pre {margin: 0.2em;color: black;border-radius: 0.25em;background-color: #f0f8ff;}#sk-container-id-3 input.sk-toggleable__control:checked~div.sk-toggleable__content {max-height: 200px;max-width: 100%;overflow: auto;}#sk-container-id-3 input.sk-toggleable__control:checked~label.sk-toggleable__label-arrow:before {content: \"▾\";}#sk-container-id-3 div.sk-estimator input.sk-toggleable__control:checked~label.sk-toggleable__label {background-color: #d4ebff;}#sk-container-id-3 div.sk-label input.sk-toggleable__control:checked~label.sk-toggleable__label {background-color: #d4ebff;}#sk-container-id-3 input.sk-hidden--visually {border: 0;clip: rect(1px 1px 1px 1px);clip: rect(1px, 1px, 1px, 1px);height: 1px;margin: -1px;overflow: hidden;padding: 0;position: absolute;width: 1px;}#sk-container-id-3 div.sk-estimator {font-family: monospace;background-color: #f0f8ff;border: 1px dotted black;border-radius: 0.25em;box-sizing: border-box;margin-bottom: 0.5em;}#sk-container-id-3 div.sk-estimator:hover {background-color: #d4ebff;}#sk-container-id-3 div.sk-parallel-item::after {content: \"\";width: 100%;border-bottom: 1px solid gray;flex-grow: 1;}#sk-container-id-3 div.sk-label:hover label.sk-toggleable__label {background-color: #d4ebff;}#sk-container-id-3 div.sk-serial::before {content: \"\";position: absolute;border-left: 1px solid gray;box-sizing: border-box;top: 0;bottom: 0;left: 50%;z-index: 0;}#sk-container-id-3 div.sk-serial {display: flex;flex-direction: column;align-items: center;background-color: white;padding-right: 0.2em;padding-left: 0.2em;position: relative;}#sk-container-id-3 div.sk-item {position: relative;z-index: 1;}#sk-container-id-3 div.sk-parallel {display: flex;align-items: stretch;justify-content: center;background-color: white;position: relative;}#sk-container-id-3 div.sk-item::before, #sk-container-id-3 div.sk-parallel-item::before {content: \"\";position: absolute;border-left: 1px solid gray;box-sizing: border-box;top: 0;bottom: 0;left: 50%;z-index: -1;}#sk-container-id-3 div.sk-parallel-item {display: flex;flex-direction: column;z-index: 1;position: relative;background-color: white;}#sk-container-id-3 div.sk-parallel-item:first-child::after {align-self: flex-end;width: 50%;}#sk-container-id-3 div.sk-parallel-item:last-child::after {align-self: flex-start;width: 50%;}#sk-container-id-3 div.sk-parallel-item:only-child::after {width: 0;}#sk-container-id-3 div.sk-dashed-wrapped {border: 1px dashed gray;margin: 0 0.4em 0.5em 0.4em;box-sizing: border-box;padding-bottom: 0.4em;background-color: white;}#sk-container-id-3 div.sk-label label {font-family: monospace;font-weight: bold;display: inline-block;line-height: 1.2em;}#sk-container-id-3 div.sk-label-container {text-align: center;}#sk-container-id-3 div.sk-container {/* jupyter's `normalize.less` sets `[hidden] { display: none; }` but bootstrap.min.css set `[hidden] { display: none !important; }` so we also need the `!important` here to be able to override the default hidden behavior on the sphinx rendered scikit-learn.org. See: https://github.com/scikit-learn/scikit-learn/issues/21755 */display: inline-block !important;position: relative;}#sk-container-id-3 div.sk-text-repr-fallback {display: none;}</style><div id=\"sk-container-id-3\" class=\"sk-top-container\"><div class=\"sk-text-repr-fallback\"><pre>DecisionTreeClassifier()</pre><b>In a Jupyter environment, please rerun this cell to show the HTML representation or trust the notebook. <br />On GitHub, the HTML representation is unable to render, please try loading this page with nbviewer.org.</b></div><div class=\"sk-container\" hidden><div class=\"sk-item\"><div class=\"sk-estimator sk-toggleable\"><input class=\"sk-toggleable__control sk-hidden--visually\" id=\"sk-estimator-id-3\" type=\"checkbox\" checked><label for=\"sk-estimator-id-3\" class=\"sk-toggleable__label sk-toggleable__label-arrow\">DecisionTreeClassifier</label><div class=\"sk-toggleable__content\"><pre>DecisionTreeClassifier()</pre></div></div></div></div></div>"
      ],
      "text/plain": [
       "DecisionTreeClassifier()"
      ]
     },
     "execution_count": 67,
     "metadata": {},
     "output_type": "execute_result"
    }
   ],
   "source": [
    "dt.fit(X_train,y_train)"
   ]
  },
  {
   "cell_type": "code",
   "execution_count": 71,
   "id": "e5e8a778",
   "metadata": {},
   "outputs": [],
   "source": [
    "dt_pred=dt.predict(X_test)"
   ]
  },
  {
   "cell_type": "code",
   "execution_count": 72,
   "id": "d112056d",
   "metadata": {},
   "outputs": [
    {
     "data": {
      "text/plain": [
       "array([[2707,  194],\n",
       "       [ 221, 2669]], dtype=int64)"
      ]
     },
     "execution_count": 72,
     "metadata": {},
     "output_type": "execute_result"
    }
   ],
   "source": [
    "from sklearn.metrics import confusion_matrix  \n",
    "dt_cm= confusion_matrix(y_test, dt_pred)\n",
    "dt_cm"
   ]
  },
  {
   "cell_type": "code",
   "execution_count": 73,
   "id": "c40bdb91",
   "metadata": {},
   "outputs": [
    {
     "name": "stdout",
     "output_type": "stream",
     "text": [
      "              precision    recall  f1-score   support\n",
      "\n",
      "           0       0.92      0.93      0.93      2901\n",
      "           1       0.93      0.92      0.93      2890\n",
      "\n",
      "    accuracy                           0.93      5791\n",
      "   macro avg       0.93      0.93      0.93      5791\n",
      "weighted avg       0.93      0.93      0.93      5791\n",
      "\n"
     ]
    }
   ],
   "source": [
    "from sklearn.metrics import classification_report\n",
    "print(classification_report(y_test,dt_pred))"
   ]
  },
  {
   "cell_type": "markdown",
   "id": "5a6f2127",
   "metadata": {},
   "source": [
    "decision tree gives accuracy of 93%"
   ]
  }
 ],
 "metadata": {
  "kernelspec": {
   "display_name": "Python 3 (ipykernel)",
   "language": "python",
   "name": "python3"
  },
  "language_info": {
   "codemirror_mode": {
    "name": "ipython",
    "version": 3
   },
   "file_extension": ".py",
   "mimetype": "text/x-python",
   "name": "python",
   "nbconvert_exporter": "python",
   "pygments_lexer": "ipython3",
   "version": "3.11.5"
  }
 },
 "nbformat": 4,
 "nbformat_minor": 5
}
